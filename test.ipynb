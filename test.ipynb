{
 "cells": [
  {
   "cell_type": "code",
   "execution_count": 1,
   "metadata": {},
   "outputs": [],
   "source": [
    "#This notebook just contains tests for creating the visualization of the football pitch"
   ]
  },
  {
   "cell_type": "code",
   "execution_count": 74,
   "metadata": {},
   "outputs": [],
   "source": [
    "import pandas as pd\n",
    "import plotly.express as px\n",
    "import matplotlib.pyplot as plt\n",
    "import numpy as np\n",
    "from PIL import Image\n",
    "import os\n",
    "from matplotlib.patches import Arc\n",
    "import plotly.graph_objects as go\n",
    "\n",
    "# Do not truncate tables\n",
    "pd.set_option('display.max_columns', None)"
   ]
  },
  {
   "cell_type": "code",
   "execution_count": 2,
   "metadata": {},
   "outputs": [],
   "source": [
    "# Load the data\n",
    "\n",
    "# Match data\n",
    "df_match_data = pd.read_csv('../Data/FIFA World Cup 2022 Match Data/data.csv', delimiter=',')\n",
    "\n",
    "# Player data\n",
    "df_player_defense       = pd.read_csv('../Data/FIFA World Cup 2022 Player Data/player_defense.csv', delimiter=',')\n",
    "df_player_gca           = pd.read_csv('../Data/FIFA World Cup 2022 Player Data/player_gca.csv', delimiter=',')\n",
    "df_player_keepers       = pd.read_csv('../Data/FIFA World Cup 2022 Player Data/player_keepers.csv', delimiter=',')\n",
    "df_player_keepersadv    = pd.read_csv('../Data/FIFA World Cup 2022 Player Data/player_keepersadv.csv', delimiter=',')\n",
    "df_player_misc          = pd.read_csv('../Data/FIFA World Cup 2022 Player Data/player_misc.csv', delimiter=',')\n",
    "df_player_passing       = pd.read_csv('../Data/FIFA World Cup 2022 Player Data/player_passing.csv', delimiter=',')\n",
    "df_player_passing_types = pd.read_csv('../Data/FIFA World Cup 2022 Player Data/player_passing_types.csv', delimiter=',')\n",
    "df_player_playingtime   = pd.read_csv('../Data/FIFA World Cup 2022 Player Data/player_playingtime.csv', delimiter=',')\n",
    "df_player_possession    = pd.read_csv('../Data/FIFA World Cup 2022 Player Data/player_possession.csv', delimiter=',')\n",
    "df_player_shooting      = pd.read_csv('../Data/FIFA World Cup 2022 Player Data/player_shooting.csv', delimiter=',')\n",
    "df_player_stats         = pd.read_csv('../Data/FIFA World Cup 2022 Player Data/player_stats.csv', delimiter=',')\n",
    "\n",
    "# Team data\n",
    "df_team_data        = pd.read_csv('../Data/FIFA World Cup 2022 Team Data/team_data.csv', delimiter=',')\n",
    "df_team_group_stats = pd.read_csv('../Data/FIFA World Cup 2022 Team Data/group_stats.csv', delimiter=',')\n",
    "\n",
    "# Historic data\n",
    "df_historic_fifa_ranking      = pd.read_csv('../Data/FIFA World Cup Historic/fifa_ranking_2022-10-06.csv', delimiter=',')\n",
    "df_historic_matches_1930_2022 = pd.read_csv('../Data/FIFA World Cup Historic/matches_1930_2022.csv', delimiter=',')\n",
    "df_historic_world_cup         = pd.read_csv('../Data/FIFA World Cup Historic/world_cup.csv', delimiter=',')\n",
    "\n",
    "# Penalty shootouts\n",
    "df_penalty_shootouts = pd.read_csv('../Data/FIFA World Cup Penalty Shootouts/WorldCupShootouts.csv', delimiter=',')\n",
    "\n",
    "# Twitter data\n",
    "df_tweets_01 = pd.read_csv('../Data/FIFA World Cup 2022 Twitter Dataset/tweets1.csv', delimiter=';')\n",
    "df_tweets_02 = pd.read_csv('../Data/FIFA World Cup 2022 Twitter Dataset/tweets2.csv', delimiter=';')\n",
    "df_tweets = pd.concat([df_tweets_01, df_tweets_02])\n",
    "\n",
    "# Prediction data\n",
    "df_prediction_groups  = pd.read_csv('../Data/FIFA World Cup 2022 Prediction/2022_world_cup_groups.csv', delimiter=',')\n",
    "df_prediction_matches = pd.read_csv('../Data/FIFA World Cup 2022 Prediction/2022_world_cup_matches.csv', delimiter=',')\n",
    "df_prediction_international_matches = pd.read_csv('../Data/FIFA World Cup 2022 Prediction/international_matches.csv', delimiter=',')\n",
    "df_prediction_world_cup_matches = pd.read_csv('../Data/FIFA World Cup 2022 Prediction/world_cup_matches.csv', delimiter=',')\n",
    "df_prediction_world_cups = pd.read_csv('../Data/FIFA World Cup 2022 Prediction/world_cups.csv', delimiter=',')\n",
    "\n",
    "# Player images\n",
    "def list_full_paths(directory):\n",
    "    return [os.path.join(directory, file) for file in os.listdir(directory)]\n",
    "\n",
    "def img_reshape(img):\n",
    "    img = Image.open(img).convert('RGB')\n",
    "    img = img.resize((300,300))\n",
    "    img = np.asarray(img)\n",
    "    return img\n",
    "\n",
    "def showImages(group, land, player):\n",
    "    images  = list_full_paths('../Data/FIFA World Cup 2022 Player Images/Images/Images/Group ' + group + '/' + land + ' Players/Images_' + player)\n",
    "    img_arr = []\n",
    "    \n",
    "    for image in images:\n",
    "        img_arr.append(img_reshape(image))\n",
    "        \n",
    "    rows = 2\n",
    "    cols = 2\n",
    "    img_count = 0\n",
    "    fig, axes = plt.subplots(nrows=rows, ncols=cols, figsize=((2,2)))\n",
    "                             \n",
    "    for i in range(rows):\n",
    "        for j in range(cols):\n",
    "            if img_count < len(img_arr):\n",
    "                axes[i,j].imshow(img_arr[img_count])\n",
    "                axes[i,j].axis('off')\n",
    "                img_count+=1\n",
    "                \n",
    "    plt.subplots_adjust(wspace=0, hspace=0)\n",
    "    "
   ]
  },
  {
   "cell_type": "code",
   "execution_count": 57,
   "metadata": {},
   "outputs": [
    {
     "data": {
      "text/plain": [
       "array(['5-3-2', '4-2-3-1', '4-3-3', '4-4-2', '3-5-2', '3-4-3', '3-4-1-2',\n",
       "       '4-1-2-1-2', '4-4-1-1', '5-4-1'], dtype=object)"
      ]
     },
     "execution_count": 57,
     "metadata": {},
     "output_type": "execute_result"
    }
   ],
   "source": [
    "df_match_data['home_formation'].unique()"
   ]
  },
  {
   "cell_type": "code",
   "execution_count": 70,
   "metadata": {},
   "outputs": [
    {
     "data": {
      "image/png": "[encoded data removed]",
      "text/plain": [
       "<Figure size 640x480 with 1 Axes>"
      ]
     },
     "metadata": {},
     "output_type": "display_data"
    }
   ],
   "source": [
    "pitch = createPitch()\n"
   ]
  },
  {
   "cell_type": "code",
   "execution_count": 2,
   "metadata": {},
   "outputs": [],
   "source": [
    "#Function which plots a 5-3-2 formation\n",
    "def FiveThreeTwo():\n",
    "    plt.plot(7,45, '-ro')\n",
    "    plt.plot(25,45, '-ro')\n",
    "    plt.plot(25,25, '-ro')\n",
    "    plt.plot(25,5, '-ro')\n",
    "    plt.plot(25,65, '-ro')\n",
    "    plt.plot(25,85, '-ro')\n",
    "    plt.plot(43,45, '-ro')\n",
    "    plt.plot(43,15, '-ro')\n",
    "    plt.plot(43,75, '-ro')\n",
    "    plt.plot(61,20, '-ro')\n",
    "    plt.plot(61,70, '-ro')"
   ]
  },
  {
   "cell_type": "code",
   "execution_count": 3,
   "metadata": {},
   "outputs": [],
   "source": [
    "#Function which plots a 4-4-2 formation\n",
    "def FourFourTwo():\n",
    "    plt.plot(7,45, '-ro')\n",
    "    plt.plot(25,30, '-ro')\n",
    "    plt.plot(25,5, '-ro')\n",
    "    plt.plot(25,60, '-ro')\n",
    "    plt.plot(25,85, '-ro')   \n",
    "    plt.plot(43,30, '-ro')\n",
    "    plt.plot(43,5, '-ro')\n",
    "    plt.plot(43,60, '-ro')\n",
    "    plt.plot(43,85, '-ro')\n",
    "    plt.plot(61,20, '-ro')\n",
    "    plt.plot(61,70, '-ro')"
   ]
  },
  {
   "cell_type": "code",
   "execution_count": 23,
   "metadata": {},
   "outputs": [],
   "source": [
    "def create_pitch(value, active_cell):\n",
    "    fig2 = go.Figure()\n",
    "\n",
    "    # Add pitch boundaries\n",
    "    fig2.add_shape(type='rect', x0=0, y0=0, x1=130, y1=90, line=dict(color='black', width=2))\n",
    "\n",
    "    # Add penalty areas\n",
    "    fig2.add_shape(type='rect', x0=0, y0=25, x1=16.5, y1=65, line=dict(color='black', width=2))\n",
    "    fig2.add_shape(type='rect', x0=113.5, y0=25, x1=130, y1=65, line=dict(color='black', width=2))\n",
    "\n",
    "    # Add goal areas\n",
    "    fig2.add_shape(type='rect', x0=0, y0=36, x1=5.5, y1=54, line=dict(color='black', width=2))\n",
    "    fig2.add_shape(type='rect', x0=124.5, y0=36, x1=130, y1=54, line=dict(color='black', width=2))\n",
    "\n",
    "    # Add centre circle\n",
    "    fig2.add_shape(type='circle', x0=65-9.15, y0=45-9.15, x1=65+9.15, y1=45+9.15, line=dict(color='black', width=2))\n",
    "\n",
    "    # Add centre spot\n",
    "    fig2.add_trace(go.Scatter(x=[65], y=[45], mode='markers', marker=dict(color='black', size=5)))\n",
    "\n",
    "    # Player positions for 5-3-2 formation (home team)\n",
    "    five_three_two = [(7, 45), (25, 45), (25, 25), (25, 5), (25, 65), (25, 85),\n",
    "                      (43, 45), (43, 15), (43, 75), (61, 20), (61, 70)]\n",
    "\n",
    "    # Player positions for 4-3-3 formation (away team)\n",
    "    four_three_three = [(130 - x, y) for x, y in [(7, 45), (25, 30), (25, 5), (25, 60), (25, 85), (43, 45), (43, 15), (43, 75), (61, 45), (61, 75), (61, 15)]]\n",
    "\n",
    "    df_data = df_match_data_cleaned[df_match_data_cleaned[\"Stage\"] == value][column]\n",
    "    df_data = df_data.reset_index()\n",
    "    if active_cell:\n",
    "        if active_cell['row']< len(df_data):\n",
    "            home_form = df_data.loc[active_cell['row'],'home_formation']\n",
    "            away_form = df_data.loc[active_cell['row'],'away_formation']\n",
    "\n",
    "            if home_form == '5-3-2':\n",
    "                home_posistions = five_three_two\n",
    "                # Add players for the home team\n",
    "                for position in home_posistions:\n",
    "                    fig2.add_trace(go.Scatter(x=[position[0]], y=[position[1]], mode='markers', marker=dict(color='red', size=10)))\n",
    "\n",
    "            if away_form == '4-3-3':\n",
    "                away_positions = four_three_three\n",
    "                # Add players for the away team\n",
    "                for position in away_positions:\n",
    "                    fig2.add_trace(go.Scatter(x=[position[0]], y=[position[1]], mode='markers', marker=dict(color='blue', size=10)))\n",
    "\n",
    "\n",
    "    \n",
    "\n",
    "    # Update layout\n",
    "    fig2.update_layout(\n",
    "        xaxis=dict(range=[0, 130], visible=False),\n",
    "        yaxis=dict(range=[0, 90], visible=False),\n",
    "        plot_bgcolor='green',  # Change pitch color if needed\n",
    "        showlegend=False\n",
    "    )\n",
    "\n",
    "    return fig2"
   ]
  },
  {
   "cell_type": "code",
   "execution_count": 16,
   "metadata": {},
   "outputs": [],
   "source": [
    "def FourFourTwo():\n",
    "    fig = go.Figure()\n",
    "\n",
    "    # Player positions\n",
    "    player_positions = [\n",
    "        (7, 45), (25, 30), (25, 5), (25, 60), (25, 85),\n",
    "        (43, 30), (43, 5), (43, 60), (43, 85),\n",
    "        (61, 20), (61, 70)\n",
    "    ]\n",
    "\n",
    "    for position in player_positions:\n",
    "        fig.add_trace(go.Scatter(x=[position[0]], y=[position[1]], mode='markers', marker=dict(color='red', size=10)))\n",
    "\n",
    "home_442 = [\n",
    "        (7, 45), (25, 30), (25, 5), (25, 60), (25, 85),\n",
    "        (43, 30), (43, 5), (43, 60), (43, 85),\n",
    "        (61, 20), (61, 70)\n",
    "    ]\n",
    "\n",
    "away_442 = [(130 - x, y) for x, y in [\n",
    "        (7, 45), (25, 30), (25, 5), (25, 60), (25, 85),\n",
    "        (43, 30), (43, 5), (43, 60), (43, 85),\n",
    "        (61, 20), (61, 70)\n",
    "    ]]"
   ]
  },
  {
   "cell_type": "code",
   "execution_count": 17,
   "metadata": {},
   "outputs": [],
   "source": [
    "def ThreeFiveTwo():\n",
    "    fig = go.Figure()\n",
    "\n",
    "    # Player positions\n",
    "    player_positions = [\n",
    "        (7, 45), (25, 45), (25, 25), (25, 5), (25, 65), (25, 85),\n",
    "        (43, 45), (43, 15), (43, 75),\n",
    "        (61, 20), (61, 70)\n",
    "    ]\n",
    "\n",
    "    for position in player_positions:\n",
    "        fig.add_trace(go.Scatter(x=[position[0]], y=[position[1]], mode='markers', marker=dict(color='red', size=10)))\n",
    "\n",
    "home_352 = [\n",
    "        (7, 45), (25, 45), (25, 25), (25, 5), (25, 65), (25, 85),\n",
    "        (43, 45), (43, 15), (43, 75),\n",
    "        (61, 20), (61, 70)\n",
    "    ]\n",
    "\n",
    "away_352 = [(130 - x, y) for x, y in [\n",
    "        (7, 45), (25, 45), (25, 25), (25, 5), (25, 65), (25, 85),\n",
    "        (43, 45), (43, 15), (43, 75),\n",
    "        (61, 20), (61, 70)\n",
    "    ]]"
   ]
  },
  {
   "cell_type": "code",
   "execution_count": 18,
   "metadata": {},
   "outputs": [],
   "source": [
    "#Function which plots a 4-3-3 formation\n",
    "def FourThreeThree():\n",
    "    plt.plot(7,45, '-ro')\n",
    "    plt.plot(25,30, '-ro')\n",
    "    plt.plot(25,5, '-ro')\n",
    "    plt.plot(25,60, '-ro')\n",
    "    plt.plot(25,85, '-ro')\n",
    "    plt.plot(43,45, '-ro')\n",
    "    plt.plot(43,15, '-ro')\n",
    "    plt.plot(43,75, '-ro')\n",
    "    plt.plot(61,45, '-ro')\n",
    "    plt.plot(61,75, '-ro')\n",
    "    plt.plot(61,15, '-ro')"
   ]
  },
  {
   "cell_type": "code",
   "execution_count": 19,
   "metadata": {},
   "outputs": [],
   "source": [
    "def FourTwoThreeOne():\n",
    "    fig = go.Figure()\n",
    "\n",
    "    # Player positions\n",
    "    player_positions = [\n",
    "        (7, 45), (25, 30), (25, 5), (25, 60), (25, 85),\n",
    "        (43, 45), (43, 15),\n",
    "        (61, 20), (61, 45), (61, 75),\n",
    "        (79, 45)\n",
    "    ]\n",
    "\n",
    "    for position in player_positions:\n",
    "        fig.add_trace(go.Scatter(x=[position[0]], y=[position[1]], mode='markers', marker=dict(color='red', size=10)))\n",
    "\n",
    "home_4231 = [\n",
    "        (7, 45), (25, 30), (25, 5), (25, 60), (25, 85),\n",
    "        (43, 45), (43, 15),\n",
    "        (61, 20), (61, 45), (61, 75),\n",
    "        (79, 45)\n",
    "    ]\n",
    "\n",
    "away_4231 =  [(130 - x, y) for x, y in [\n",
    "        (7, 45), (25, 30), (25, 5), (25, 60), (25, 85),\n",
    "        (43, 45), (43, 15),\n",
    "        (61, 20), (61, 45), (61, 75),\n",
    "        (79, 45)\n",
    "    ]]"
   ]
  },
  {
   "cell_type": "code",
   "execution_count": 20,
   "metadata": {},
   "outputs": [],
   "source": [
    "def ThreeFiveTwo():\n",
    "    fig = go.Figure()\n",
    "\n",
    "    # Player positions\n",
    "    player_positions = [\n",
    "        (7, 45), (25, 45), (25, 25), (25, 5), (25, 65), (25, 85),\n",
    "        (43, 45), (43, 15), (43, 75),\n",
    "        (61, 20), (61, 70)\n",
    "    ]\n",
    "\n",
    "    for position in player_positions:\n",
    "        fig.add_trace(go.Scatter(x=[position[0]], y=[position[1]], mode='markers', marker=dict(color='red', size=10)))\n",
    "\n",
    "home_352 = [\n",
    "        (7, 45), (25, 45), (25, 25), (25, 5), (25, 65), (25, 85),\n",
    "        (43, 45), (43, 15), (43, 75),\n",
    "        (61, 20), (61, 70)\n",
    "    ]\n",
    "\n",
    "away_352 = [(130 - x, y) for x, y in [\n",
    "        (7, 45), (25, 45), (25, 25), (25, 5), (25, 65), (25, 85),\n",
    "        (43, 45), (43, 15), (43, 75),\n",
    "        (61, 20), (61, 70)\n",
    "    ]]"
   ]
  },
  {
   "cell_type": "code",
   "execution_count": 21,
   "metadata": {},
   "outputs": [],
   "source": [
    "def ThreeFourThree():\n",
    "    fig = go.Figure()\n",
    "\n",
    "    # Player positions\n",
    "    player_positions = [\n",
    "        (7, 45), (25, 30), (25, 45), (25, 60), (43, 15), (43, 45),\n",
    "        (43, 75), (61, 20), (61, 45), (61, 70)\n",
    "    ]\n",
    "\n",
    "    for position in player_positions:\n",
    "        fig.add_trace(go.Scatter(x=[position[0]], y=[position[1]], mode='markers', marker=dict(color='red', size=10)))\n",
    "\n",
    "home_343 = [\n",
    "        (7, 45), (25, 30), (25, 45), (25, 60), (43, 15), (43, 45),\n",
    "        (43, 75), (61, 20), (61, 45), (61, 70)\n",
    "    ]\n",
    "\n",
    "away_343 = [(130 - x, y) for x, y in [\n",
    "        (7, 45), (25, 30), (25, 45), (25, 60), (43, 15), (43, 45),\n",
    "        (43, 75), (61, 20), (61, 45), (61, 70)\n",
    "    ]]"
   ]
  },
  {
   "cell_type": "code",
   "execution_count": 22,
   "metadata": {},
   "outputs": [],
   "source": [
    "def ThreeFourOneTwo():\n",
    "    fig = go.Figure()\n",
    "\n",
    "    # Player positions\n",
    "    player_positions = [\n",
    "        (7, 45), (25, 30), (25, 45), (25, 60), (43, 15), (43, 45),\n",
    "        (43, 75), (61, 45), (61, 70)\n",
    "    ]\n",
    "\n",
    "    for position in player_positions:\n",
    "        fig.add_trace(go.Scatter(x=[position[0]], y=[position[1]], mode='markers', marker=dict(color='red', size=10)))\n",
    "\n",
    "home_3412  =[\n",
    "        (7, 45), (25, 30), (25, 45), (25, 60), (43, 15), (43, 45),\n",
    "        (43, 75), (61, 45), (61, 70)\n",
    "    ]\n",
    "\n",
    "away_3412 = [(130 - x, y) for x, y in [\n",
    "        (7, 45), (25, 30), (25, 45), (25, 60), (43, 15), (43, 45),\n",
    "        (43, 75), (61, 45), (61, 70)\n",
    "    ]]\n"
   ]
  },
  {
   "cell_type": "code",
   "execution_count": 13,
   "metadata": {},
   "outputs": [],
   "source": [
    "def FourOneTwoOneTwo():\n",
    "    fig = go.Figure()\n",
    "\n",
    "    # Player positions\n",
    "    player_positions = [\n",
    "        (7, 45), (25, 30), (25, 45), (25, 60), (43, 15), (43, 75),\n",
    "        (61, 20), (61, 45), (61, 70)\n",
    "    ]\n",
    "\n",
    "    for position in player_positions:\n",
    "        fig.add_trace(go.Scatter(x=[position[0]], y=[position[1]], mode='markers', marker=dict(color='red', size=10)))\n",
    "\n",
    "home_41212 = [\n",
    "        (7, 45), (25, 30), (25, 45), (25, 60), (43, 15), (43, 75),\n",
    "        (61, 20), (61, 45), (61, 70)\n",
    "    ]\n",
    "\n",
    "away_41212 = [(130 - x, y) for x, y in [\n",
    "        (7, 45), (25, 30), (25, 45), (25, 60), (43, 15), (43, 75),\n",
    "        (61, 20), (61, 45), (61, 70)\n",
    "    ]]"
   ]
  },
  {
   "cell_type": "code",
   "execution_count": 24,
   "metadata": {},
   "outputs": [],
   "source": [
    "def FiveFourOne():\n",
    "    fig = go.Figure()\n",
    "\n",
    "    # Player positions\n",
    "    player_positions = [\n",
    "        (7, 45), (25, 30), (25, 45), (25, 60), (25, 75),\n",
    "        (43, 30), (43, 15), (43, 45), (43, 60), (43, 75),\n",
    "        (61, 45)\n",
    "    ]\n",
    "\n",
    "    for position in player_positions:\n",
    "        fig.add_trace(go.Scatter(x=[position[0]], y=[position[1]], mode='markers', marker=dict(color='red', size=10)))\n",
    "\n",
    "home_542 = [\n",
    "        (7, 45), (25, 30), (25, 45), (25, 60), (25, 75),\n",
    "        (43, 30), (43, 15), (43, 45), (43, 60), (43, 75),\n",
    "        (61, 45)\n",
    "    ]\n",
    "\n",
    "away_542 = [(130 - x, y) for x, y in [\n",
    "        (7, 45), (25, 30), (25, 45), (25, 60), (25, 75),\n",
    "        (43, 30), (43, 15), (43, 45), (43, 60), (43, 75),\n",
    "        (61, 45)\n",
    "    ]]"
   ]
  },
  {
   "cell_type": "code",
   "execution_count": null,
   "metadata": {},
   "outputs": [],
   "source": [
    "def FourFourOneOne():\n",
    "    fig = go.Figure()\n",
    "\n",
    "    # Player positions\n",
    "    player_positions = [\n",
    "        (7, 45), (25, 30), (25, 45), (25, 60), (25, 75),\n",
    "        (43, 30), (43, 5), (43, 60), (43, 85),\n",
    "        (61, 45), (61, 75)\n",
    "    ]\n",
    "\n",
    "    for position in player_positions:\n",
    "        fig.add_trace(go.Scatter(x=[position[0]], y=[position[1]], mode='markers', marker=dict(color='red', size=10)))\n",
    "\n",
    "home_4411 = [\n",
    "        (7, 45), (25, 30), (25, 45), (25, 60), (25, 75),\n",
    "        (43, 30), (43, 5), (43, 60), (43, 85),\n",
    "        (61, 45), (61, 75)\n",
    "    ]\n",
    "\n",
    "away_4411 = [(130 - x, y) for x, y in [\n",
    "        (7, 45), (25, 30), (25, 45), (25, 60), (25, 75),\n",
    "        (43, 30), (43, 5), (43, 60), (43, 85),\n",
    "        (61, 45), (61, 75)\n",
    "    ]]"
   ]
  },
  {
   "cell_type": "code",
   "execution_count": 5,
   "metadata": {},
   "outputs": [],
   "source": [
    "#Function which creates a football field visualization using plt.plot figures\n",
    "def createPitch():\n",
    "    \n",
    "    #Create figure\n",
    "    fig=plt.figure()\n",
    "    ax=fig.add_subplot(1,1,1)\n",
    "\n",
    "    #Pitch Outline & Centre Line\n",
    "    plt.plot([0,0],[0,90], color=\"black\")\n",
    "    plt.plot([0,130],[90,90], color=\"black\")\n",
    "    plt.plot([130,130],[90,0], color=\"black\")\n",
    "    plt.plot([130,0],[0,0], color=\"black\")\n",
    "    plt.plot([65,65],[0,90], color=\"black\")\n",
    "    \n",
    "    #Left Penalty Area\n",
    "    plt.plot([16.5,16.5],[65,25],color=\"black\")\n",
    "    plt.plot([0,16.5],[65,65],color=\"black\")\n",
    "    plt.plot([16.5,0],[25,25],color=\"black\")\n",
    "    \n",
    "    #Right Penalty Area\n",
    "    plt.plot([130,113.5],[65,65],color=\"black\")\n",
    "    plt.plot([113.5,113.5],[65,25],color=\"black\")\n",
    "    plt.plot([113.5,130],[25,25],color=\"black\")\n",
    "    \n",
    "    #Left 6-yard Box\n",
    "    plt.plot([0,5.5],[54,54],color=\"black\")\n",
    "    plt.plot([5.5,5.5],[54,36],color=\"black\")\n",
    "    plt.plot([5.5,0.5],[36,36],color=\"black\")\n",
    "    \n",
    "    #Right 6-yard Box\n",
    "    plt.plot([130,124.5],[54,54],color=\"black\")\n",
    "    plt.plot([124.5,124.5],[54,36],color=\"black\")\n",
    "    plt.plot([124.5,130],[36,36],color=\"black\")\n",
    "    FourFourTwo()\n",
    "    \n",
    "    #Prepare Circles\n",
    "    centreCircle = plt.Circle((65,45),9.15,color=\"black\",fill=False)\n",
    "    centreSpot = plt.Circle((65,45),0.8,color=\"black\")\n",
    "    leftPenSpot = plt.Circle((11,45),0.8,color=\"black\")\n",
    "    rightPenSpot = plt.Circle((119,45),0.8,color=\"black\")\n",
    "    \n",
    "    #Draw Circles\n",
    "    ax.add_patch(centreCircle)\n",
    "    ax.add_patch(centreSpot)\n",
    "    ax.add_patch(leftPenSpot)\n",
    "    ax.add_patch(rightPenSpot)\n",
    "    \n",
    "    #Prepare Arcs\n",
    "    leftArc = Arc((11,45),height=18.3,width=18.3,angle=0,theta1=310,theta2=50,color=\"black\")\n",
    "    rightArc = Arc((119,45),height=18.3,width=18.3,angle=0,theta1=130,theta2=230,color=\"black\")\n",
    "\n",
    "    #Draw Arcs\n",
    "    ax.add_patch(leftArc)\n",
    "    ax.add_patch(rightArc)\n",
    "    \n",
    "    #Tidy Axes\n",
    "    #plt.axis('off')\n",
    "    \n",
    "    #Display Pitch\n",
    "    plt.show()\n",
    "    "
   ]
  },
  {
   "cell_type": "code",
   "execution_count": 84,
   "metadata": {},
   "outputs": [],
   "source": [
    "import plotly.graph_objects as go\n",
    "import plotly.io as pio\n",
    "\n",
    "def create_pitch():\n",
    "    fig = go.Figure()\n",
    "\n",
    "    # Add pitch boundaries\n",
    "    fig.add_shape(type='rect', x0=0, y0=0, x1=130, y1=90, line=dict(color='black', width=2))\n",
    "\n",
    "    # Add penalty areas\n",
    "    fig.add_shape(type='rect', x0=0, y0=25, x1=16.5, y1=65, line=dict(color='black', width=2))\n",
    "    fig.add_shape(type='rect', x0=113.5, y0=25, x1=130, y1=65, line=dict(color='black', width=2))\n",
    "\n",
    "    # Add goal areas\n",
    "    fig.add_shape(type='rect', x0=0, y0=36, x1=5.5, y1=54, line=dict(color='black', width=2))\n",
    "    fig.add_shape(type='rect', x0=124.5, y0=36, x1=130, y1=54, line=dict(color='black', width=2))\n",
    "\n",
    "    # Add centre circle\n",
    "    fig.add_shape(type='circle', x0=65-9.15, y0=45-9.15, x1=65+9.15, y1=45+9.15, line=dict(color='black', width=2))\n",
    "\n",
    "    # Add centre spot\n",
    "    fig.add_trace(go.Scatter(x=[65], y=[45], mode='markers', marker=dict(color='black', size=5)))\n",
    "\n",
    "    # Update layout\n",
    "    fig.update_layout(\n",
    "        xaxis=dict(range=[0, 130], visible=False),\n",
    "        yaxis=dict(range=[0, 90], visible=False),\n",
    "        plot_bgcolor='green',  # Change pitch color if needed\n",
    "        showlegend=False\n",
    "    )\n",
    "\n",
    "    return fig\n",
    "\n",
    "# Save the plot as an HTML file (optional)\n",
    "plot = create_pitch()\n",
    "pio.write_html(plot, file='football_pitch.html', auto_open=True)\n"
   ]
  },
  {
   "cell_type": "code",
   "execution_count": 83,
   "metadata": {},
   "outputs": [
    {
     "data": {
      "application/vnd.plotly.v1+json": {
       "config": {
        "plotlyServerURL": "https://plot.ly"
       },
       "data": [],
       "layout": {
        "shapes": [
         {
          "line": {
           "color": "black",
           "width": 2
          },
          "type": "rect",
          "x0": 0,
          "x1": 130,
          "y0": 0,
          "y1": 90
         },
         {
          "line": {
           "color": "black",
           "width": 2
          },
          "type": "rect",
          "x0": 0,
          "x1": 130,
          "y0": 0,
          "y1": 90
         },
         {
          "line": {
           "color": "black",
           "width": 2
          },
          "type": "rect",
          "x0": 0,
          "x1": 130,
          "y0": 0,
          "y1": 90
         },
         {
          "line": {
           "color": "black",
           "width": 2
          },
          "type": "rect",
          "x0": 0,
          "x1": 130,
          "y0": 0,
          "y1": 90
         },
         {
          "line": {
           "color": "black",
           "width": 2
          },
          "type": "rect",
          "x0": 0,
          "x1": 130,
          "y0": 0,
          "y1": 90
         },
         {
          "line": {
           "color": "black",
           "width": 2
          },
          "type": "rect",
          "x0": 0,
          "x1": 130,
          "y0": 0,
          "y1": 90
         },
         {
          "line": {
           "color": "black",
           "width": 2
          },
          "type": "rect",
          "x0": 0,
          "x1": 130,
          "y0": 0,
          "y1": 90
         },
         {
          "line": {
           "color": "black",
           "width": 2
          },
          "type": "rect",
          "x0": 0,
          "x1": 130,
          "y0": 0,
          "y1": 90
         },
         {
          "line": {
           "color": "black",
           "width": 2
          },
          "type": "rect",
          "x0": 0,
          "x1": 130,
          "y0": 0,
          "y1": 90
         },
         {
          "line": {
           "color": "black",
           "width": 2
          },
          "type": "rect",
          "x0": 0,
          "x1": 130,
          "y0": 0,
          "y1": 90
         },
         {
          "line": {
           "color": "black",
           "width": 2
          },
          "type": "rect",
          "x0": 0,
          "x1": 130,
          "y0": 0,
          "y1": 90
         },
         {
          "line": {
           "color": "black",
           "width": 2
          },
          "type": "rect",
          "x0": 0,
          "x1": 130,
          "y0": 0,
          "y1": 90
         },
         {
          "line": {
           "color": "black",
           "width": 2
          },
          "type": "rect",
          "x0": 0,
          "x1": 130,
          "y0": 0,
          "y1": 90
         },
         {
          "line": {
           "color": "black",
           "width": 2
          },
          "type": "rect",
          "x0": 0,
          "x1": 130,
          "y0": 0,
          "y1": 90
         },
         {
          "line": {
           "color": "black",
           "width": 2
          },
          "type": "rect",
          "x0": 0,
          "x1": 130,
          "y0": 0,
          "y1": 90
         },
         {
          "line": {
           "color": "black",
           "width": 2
          },
          "type": "rect",
          "x0": 0,
          "x1": 130,
          "y0": 0,
          "y1": 90
         },
         {
          "line": {
           "color": "black",
           "width": 2
          },
          "type": "rect",
          "x0": 0,
          "x1": 130,
          "y0": 0,
          "y1": 90
         },
         {
          "line": {
           "color": "black",
           "width": 2
          },
          "type": "rect",
          "x0": 0,
          "x1": 130,
          "y0": 0,
          "y1": 90
         },
         {
          "line": {
           "color": "black",
           "width": 2
          },
          "path": "M11 45 A9.15 9.15 0 0 1 119 45",
          "type": "rect",
          "x0": 0,
          "x1": 130,
          "y0": 0,
          "y1": 90
         }
        ],
        "template": {
         "data": {
          "bar": [
           {
            "error_x": {
             "color": "#2a3f5f"
            },
            "error_y": {
             "color": "#2a3f5f"
            },
            "marker": {
             "line": {
              "color": "#E5ECF6",
              "width": 0.5
             },
             "pattern": {
              "fillmode": "overlay",
              "size": 10,
              "solidity": 0.2
             }
            },
            "type": "bar"
           }
          ],
          "barpolar": [
           {
            "marker": {
             "line": {
              "color": "#E5ECF6",
              "width": 0.5
             },
             "pattern": {
              "fillmode": "overlay",
              "size": 10,
              "solidity": 0.2
             }
            },
            "type": "barpolar"
           }
          ],
          "carpet": [
           {
            "aaxis": {
             "endlinecolor": "#2a3f5f",
             "gridcolor": "white",
             "linecolor": "white",
             "minorgridcolor": "white",
             "startlinecolor": "#2a3f5f"
            },
            "baxis": {
             "endlinecolor": "#2a3f5f",
             "gridcolor": "white",
             "linecolor": "white",
             "minorgridcolor": "white",
             "startlinecolor": "#2a3f5f"
            },
            "type": "carpet"
           }
          ],
          "choropleth": [
           {
            "colorbar": {
             "outlinewidth": 0,
             "ticks": ""
            },
            "type": "choropleth"
           }
          ],
          "contour": [
           {
            "colorbar": {
             "outlinewidth": 0,
             "ticks": ""
            },
            "colorscale": [
             [
              0,
              "#0d0887"
             ],
             [
              0.1111111111111111,
              "#46039f"
             ],
             [
              0.2222222222222222,
              "#7201a8"
             ],
             [
              0.3333333333333333,
              "#9c179e"
             ],
             [
              0.4444444444444444,
              "#bd3786"
             ],
             [
              0.5555555555555556,
              "#d8576b"
             ],
             [
              0.6666666666666666,
              "#ed7953"
             ],
             [
              0.7777777777777778,
              "#fb9f3a"
             ],
             [
              0.8888888888888888,
              "#fdca26"
             ],
             [
              1,
              "#f0f921"
             ]
            ],
            "type": "contour"
           }
          ],
          "contourcarpet": [
           {
            "colorbar": {
             "outlinewidth": 0,
             "ticks": ""
            },
            "type": "contourcarpet"
           }
          ],
          "heatmap": [
           {
            "colorbar": {
             "outlinewidth": 0,
             "ticks": ""
            },
            "colorscale": [
             [
              0,
              "#0d0887"
             ],
             [
              0.1111111111111111,
              "#46039f"
             ],
             [
              0.2222222222222222,
              "#7201a8"
             ],
             [
              0.3333333333333333,
              "#9c179e"
             ],
             [
              0.4444444444444444,
              "#bd3786"
             ],
             [
              0.5555555555555556,
              "#d8576b"
             ],
             [
              0.6666666666666666,
              "#ed7953"
             ],
             [
              0.7777777777777778,
              "#fb9f3a"
             ],
             [
              0.8888888888888888,
              "#fdca26"
             ],
             [
              1,
              "#f0f921"
             ]
            ],
            "type": "heatmap"
           }
          ],
          "heatmapgl": [
           {
            "colorbar": {
             "outlinewidth": 0,
             "ticks": ""
            },
            "colorscale": [
             [
              0,
              "#0d0887"
             ],
             [
              0.1111111111111111,
              "#46039f"
             ],
             [
              0.2222222222222222,
              "#7201a8"
             ],
             [
              0.3333333333333333,
              "#9c179e"
             ],
             [
              0.4444444444444444,
              "#bd3786"
             ],
             [
              0.5555555555555556,
              "#d8576b"
             ],
             [
              0.6666666666666666,
              "#ed7953"
             ],
             [
              0.7777777777777778,
              "#fb9f3a"
             ],
             [
              0.8888888888888888,
              "#fdca26"
             ],
             [
              1,
              "#f0f921"
             ]
            ],
            "type": "heatmapgl"
           }
          ],
          "histogram": [
           {
            "marker": {
             "pattern": {
              "fillmode": "overlay",
              "size": 10,
              "solidity": 0.2
             }
            },
            "type": "histogram"
           }
          ],
          "histogram2d": [
           {
            "colorbar": {
             "outlinewidth": 0,
             "ticks": ""
            },
            "colorscale": [
             [
              0,
              "#0d0887"
             ],
             [
              0.1111111111111111,
              "#46039f"
             ],
             [
              0.2222222222222222,
              "#7201a8"
             ],
             [
              0.3333333333333333,
              "#9c179e"
             ],
             [
              0.4444444444444444,
              "#bd3786"
             ],
             [
              0.5555555555555556,
              "#d8576b"
             ],
             [
              0.6666666666666666,
              "#ed7953"
             ],
             [
              0.7777777777777778,
              "#fb9f3a"
             ],
             [
              0.8888888888888888,
              "#fdca26"
             ],
             [
              1,
              "#f0f921"
             ]
            ],
            "type": "histogram2d"
           }
          ],
          "histogram2dcontour": [
           {
            "colorbar": {
             "outlinewidth": 0,
             "ticks": ""
            },
            "colorscale": [
             [
              0,
              "#0d0887"
             ],
             [
              0.1111111111111111,
              "#46039f"
             ],
             [
              0.2222222222222222,
              "#7201a8"
             ],
             [
              0.3333333333333333,
              "#9c179e"
             ],
             [
              0.4444444444444444,
              "#bd3786"
             ],
             [
              0.5555555555555556,
              "#d8576b"
             ],
             [
              0.6666666666666666,
              "#ed7953"
             ],
             [
              0.7777777777777778,
              "#fb9f3a"
             ],
             [
              0.8888888888888888,
              "#fdca26"
             ],
             [
              1,
              "#f0f921"
             ]
            ],
            "type": "histogram2dcontour"
           }
          ],
          "mesh3d": [
           {
            "colorbar": {
             "outlinewidth": 0,
             "ticks": ""
            },
            "type": "mesh3d"
           }
          ],
          "parcoords": [
           {
            "line": {
             "colorbar": {
              "outlinewidth": 0,
              "ticks": ""
             }
            },
            "type": "parcoords"
           }
          ],
          "pie": [
           {
            "automargin": true,
            "type": "pie"
           }
          ],
          "scatter": [
           {
            "fillpattern": {
             "fillmode": "overlay",
             "size": 10,
             "solidity": 0.2
            },
            "type": "scatter"
           }
          ],
          "scatter3d": [
           {
            "line": {
             "colorbar": {
              "outlinewidth": 0,
              "ticks": ""
             }
            },
            "marker": {
             "colorbar": {
              "outlinewidth": 0,
              "ticks": ""
             }
            },
            "type": "scatter3d"
           }
          ],
          "scattercarpet": [
           {
            "marker": {
             "colorbar": {
              "outlinewidth": 0,
              "ticks": ""
             }
            },
            "type": "scattercarpet"
           }
          ],
          "scattergeo": [
           {
            "marker": {
             "colorbar": {
              "outlinewidth": 0,
              "ticks": ""
             }
            },
            "type": "scattergeo"
           }
          ],
          "scattergl": [
           {
            "marker": {
             "colorbar": {
              "outlinewidth": 0,
              "ticks": ""
             }
            },
            "type": "scattergl"
           }
          ],
          "scattermapbox": [
           {
            "marker": {
             "colorbar": {
              "outlinewidth": 0,
              "ticks": ""
             }
            },
            "type": "scattermapbox"
           }
          ],
          "scatterpolar": [
           {
            "marker": {
             "colorbar": {
              "outlinewidth": 0,
              "ticks": ""
             }
            },
            "type": "scatterpolar"
           }
          ],
          "scatterpolargl": [
           {
            "marker": {
             "colorbar": {
              "outlinewidth": 0,
              "ticks": ""
             }
            },
            "type": "scatterpolargl"
           }
          ],
          "scatterternary": [
           {
            "marker": {
             "colorbar": {
              "outlinewidth": 0,
              "ticks": ""
             }
            },
            "type": "scatterternary"
           }
          ],
          "surface": [
           {
            "colorbar": {
             "outlinewidth": 0,
             "ticks": ""
            },
            "colorscale": [
             [
              0,
              "#0d0887"
             ],
             [
              0.1111111111111111,
              "#46039f"
             ],
             [
              0.2222222222222222,
              "#7201a8"
             ],
             [
              0.3333333333333333,
              "#9c179e"
             ],
             [
              0.4444444444444444,
              "#bd3786"
             ],
             [
              0.5555555555555556,
              "#d8576b"
             ],
             [
              0.6666666666666666,
              "#ed7953"
             ],
             [
              0.7777777777777778,
              "#fb9f3a"
             ],
             [
              0.8888888888888888,
              "#fdca26"
             ],
             [
              1,
              "#f0f921"
             ]
            ],
            "type": "surface"
           }
          ],
          "table": [
           {
            "cells": {
             "fill": {
              "color": "#EBF0F8"
             },
             "line": {
              "color": "white"
             }
            },
            "header": {
             "fill": {
              "color": "#C8D4E3"
             },
             "line": {
              "color": "white"
             }
            },
            "type": "table"
           }
          ]
         },
         "layout": {
          "annotationdefaults": {
           "arrowcolor": "#2a3f5f",
           "arrowhead": 0,
           "arrowwidth": 1
          },
          "autotypenumbers": "strict",
          "coloraxis": {
           "colorbar": {
            "outlinewidth": 0,
            "ticks": ""
           }
          },
          "colorscale": {
           "diverging": [
            [
             0,
             "#8e0152"
            ],
            [
             0.1,
             "#c51b7d"
            ],
            [
             0.2,
             "#de77ae"
            ],
            [
             0.3,
             "#f1b6da"
            ],
            [
             0.4,
             "#fde0ef"
            ],
            [
             0.5,
             "#f7f7f7"
            ],
            [
             0.6,
             "#e6f5d0"
            ],
            [
             0.7,
             "#b8e186"
            ],
            [
             0.8,
             "#7fbc41"
            ],
            [
             0.9,
             "#4d9221"
            ],
            [
             1,
             "#276419"
            ]
           ],
           "sequential": [
            [
             0,
             "#0d0887"
            ],
            [
             0.1111111111111111,
             "#46039f"
            ],
            [
             0.2222222222222222,
             "#7201a8"
            ],
            [
             0.3333333333333333,
             "#9c179e"
            ],
            [
             0.4444444444444444,
             "#bd3786"
            ],
            [
             0.5555555555555556,
             "#d8576b"
            ],
            [
             0.6666666666666666,
             "#ed7953"
            ],
            [
             0.7777777777777778,
             "#fb9f3a"
            ],
            [
             0.8888888888888888,
             "#fdca26"
            ],
            [
             1,
             "#f0f921"
            ]
           ],
           "sequentialminus": [
            [
             0,
             "#0d0887"
            ],
            [
             0.1111111111111111,
             "#46039f"
            ],
            [
             0.2222222222222222,
             "#7201a8"
            ],
            [
             0.3333333333333333,
             "#9c179e"
            ],
            [
             0.4444444444444444,
             "#bd3786"
            ],
            [
             0.5555555555555556,
             "#d8576b"
            ],
            [
             0.6666666666666666,
             "#ed7953"
            ],
            [
             0.7777777777777778,
             "#fb9f3a"
            ],
            [
             0.8888888888888888,
             "#fdca26"
            ],
            [
             1,
             "#f0f921"
            ]
           ]
          },
          "colorway": [
           "#636efa",
           "#EF553B",
           "#00cc96",
           "#ab63fa",
           "#FFA15A",
           "#19d3f3",
           "#FF6692",
           "#B6E880",
           "#FF97FF",
           "#FECB52"
          ],
          "font": {
           "color": "#2a3f5f"
          },
          "geo": {
           "bgcolor": "white",
           "lakecolor": "white",
           "landcolor": "#E5ECF6",
           "showlakes": true,
           "showland": true,
           "subunitcolor": "white"
          },
          "hoverlabel": {
           "align": "left"
          },
          "hovermode": "closest",
          "mapbox": {
           "style": "light"
          },
          "paper_bgcolor": "white",
          "plot_bgcolor": "#E5ECF6",
          "polar": {
           "angularaxis": {
            "gridcolor": "white",
            "linecolor": "white",
            "ticks": ""
           },
           "bgcolor": "#E5ECF6",
           "radialaxis": {
            "gridcolor": "white",
            "linecolor": "white",
            "ticks": ""
           }
          },
          "scene": {
           "xaxis": {
            "backgroundcolor": "#E5ECF6",
            "gridcolor": "white",
            "gridwidth": 2,
            "linecolor": "white",
            "showbackground": true,
            "ticks": "",
            "zerolinecolor": "white"
           },
           "yaxis": {
            "backgroundcolor": "#E5ECF6",
            "gridcolor": "white",
            "gridwidth": 2,
            "linecolor": "white",
            "showbackground": true,
            "ticks": "",
            "zerolinecolor": "white"
           },
           "zaxis": {
            "backgroundcolor": "#E5ECF6",
            "gridcolor": "white",
            "gridwidth": 2,
            "linecolor": "white",
            "showbackground": true,
            "ticks": "",
            "zerolinecolor": "white"
           }
          },
          "shapedefaults": {
           "line": {
            "color": "#2a3f5f"
           }
          },
          "ternary": {
           "aaxis": {
            "gridcolor": "white",
            "linecolor": "white",
            "ticks": ""
           },
           "baxis": {
            "gridcolor": "white",
            "linecolor": "white",
            "ticks": ""
           },
           "bgcolor": "#E5ECF6",
           "caxis": {
            "gridcolor": "white",
            "linecolor": "white",
            "ticks": ""
           }
          },
          "title": {
           "x": 0.05
          },
          "xaxis": {
           "automargin": true,
           "gridcolor": "white",
           "linecolor": "white",
           "ticks": "",
           "title": {
            "standoff": 15
           },
           "zerolinecolor": "white",
           "zerolinewidth": 2
          },
          "yaxis": {
           "automargin": true,
           "gridcolor": "white",
           "linecolor": "white",
           "ticks": "",
           "title": {
            "standoff": 15
           },
           "zerolinecolor": "white",
           "zerolinewidth": 2
          }
         }
        },
        "xaxis": {
         "range": [
          0,
          130
         ],
         "visible": false
        },
        "yaxis": {
         "range": [
          0,
          90
         ],
         "visible": false
        }
       }
      }
     },
     "metadata": {},
     "output_type": "display_data"
    }
   ],
   "source": [
    "CreatePitch()"
   ]
  },
  {
   "cell_type": "code",
   "execution_count": null,
   "metadata": {},
   "outputs": [],
   "source": []
  }
 ],
 "metadata": {
  "kernelspec": {
   "display_name": "Python 3",
   "language": "python",
   "name": "python3"
  },
  "language_info": {
   "codemirror_mode": {
    "name": "ipython",
    "version": 3
   },
   "file_extension": ".py",
   "mimetype": "text/x-python",
   "name": "python",
   "nbconvert_exporter": "python",
   "pygments_lexer": "ipython3",
   "version": "3.8.5"
  },
  "orig_nbformat": 4,
  "vscode": {
   "interpreter": {
    "hash": "3d597f4c481aa0f25dceb95d2a0067e73c0966dcbd003d741d821a7208527ecf"
   }
  }
 },
 "nbformat": 4,
 "nbformat_minor": 2
}
